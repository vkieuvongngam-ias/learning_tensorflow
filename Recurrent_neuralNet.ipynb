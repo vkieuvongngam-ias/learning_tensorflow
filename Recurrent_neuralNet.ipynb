{
  "nbformat": 4,
  "nbformat_minor": 0,
  "metadata": {
    "colab": {
      "name": "Recurrent_neuralNet.ipynb",
      "provenance": [],
      "mount_file_id": "1rIoHNleGPIDLCXbB7xlJq7wZJ34yB3qU",
      "authorship_tag": "ABX9TyMIiTW11KQFVwOBlUvZu5c4",
      "include_colab_link": true
    },
    "kernelspec": {
      "name": "python3",
      "display_name": "Python 3"
    },
    "language_info": {
      "name": "python"
    },
    "accelerator": "GPU"
  },
  "cells": [
    {
      "cell_type": "markdown",
      "metadata": {
        "id": "view-in-github",
        "colab_type": "text"
      },
      "source": [
        "<a href=\"https://colab.research.google.com/github/vkieuvongngam-ias/learning_tensorflow/blob/master/Recurrent_neuralNet.ipynb\" target=\"_parent\"><img src=\"https://colab.research.google.com/assets/colab-badge.svg\" alt=\"Open In Colab\"/></a>"
      ]
    },
    {
      "cell_type": "markdown",
      "metadata": {
        "id": "wj9IBLqs6UZx"
      },
      "source": [
        "# Recurrent Neural net in tensorflow"
      ]
    },
    {
      "cell_type": "markdown",
      "metadata": {
        "id": "teZUjGSYj62z"
      },
      "source": [
        "## Data processing\n",
        "\n",
        "using authorship attribution problem as an example\n",
        "first we create a dataframe of text and the author"
      ]
    },
    {
      "cell_type": "code",
      "metadata": {
        "colab": {
          "base_uri": "https://localhost:8080/"
        },
        "id": "PyaVC1cdM7Xp",
        "outputId": "6b523db6-0379-4038-f207-56f460d43304"
      },
      "source": [
        "import numpy as np\n",
        "import pandas as pd\n",
        "from matplotlib import pyplot as plt\n",
        "from sklearn.model_selection import train_test_split\n",
        "import tensorflow as tf\n",
        "%cd \"drive/MyDrive/Colab Notebooks\"\n",
        "print(f\"tensorflow version {tf.__version__} and use GPU? {tf.test.is_gpu_available(cuda_only=True)} \")"
      ],
      "execution_count": 4,
      "outputs": [
        {
          "output_type": "stream",
          "name": "stdout",
          "text": [
            "[Errno 2] No such file or directory: 'drive/MyDrive/Colab Notebooks'\n",
            "/content/drive/MyDrive/Colab Notebooks\n",
            "tensorflow version 2.7.0 and use GPU? True \n"
          ]
        }
      ]
    },
    {
      "cell_type": "code",
      "metadata": {
        "colab": {
          "base_uri": "https://localhost:8080/"
        },
        "id": "1v59Rg_Kj9ja",
        "outputId": "11d3cf3b-7b6f-48d2-a51c-375fb90b0082"
      },
      "source": [
        "train_df = pd.read_csv('spooky-author-identification/train.csv')\n",
        "train_df['author'].value_counts()"
      ],
      "execution_count": 5,
      "outputs": [
        {
          "output_type": "execute_result",
          "data": {
            "text/plain": [
              "EAP    7900\n",
              "MWS    6044\n",
              "HPL    5635\n",
              "Name: author, dtype: int64"
            ]
          },
          "metadata": {},
          "execution_count": 5
        }
      ]
    },
    {
      "cell_type": "code",
      "metadata": {
        "colab": {
          "base_uri": "https://localhost:8080/",
          "height": 238
        },
        "id": "WCXhBux6j_TL",
        "outputId": "536f6a5e-f276-4b85-9c6e-49aebc358803"
      },
      "source": [
        "g = train_df.groupby('author')\n",
        "train_resampled = g.apply(lambda x: x.sample(g.size().min()).reset_index(drop=True))\n",
        "\n",
        "train_resampled['author'] = np.where(train_resampled['author'] == 'EAP',0,\n",
        "                                     np.where(train_resampled['author'] == 'HPL',1,2))\n",
        "train_resampled = train_resampled[['author','text']]\n",
        "train_resampled.tail()"
      ],
      "execution_count": 6,
      "outputs": [
        {
          "output_type": "execute_result",
          "data": {
            "text/html": [
              "<div>\n",
              "<style scoped>\n",
              "    .dataframe tbody tr th:only-of-type {\n",
              "        vertical-align: middle;\n",
              "    }\n",
              "\n",
              "    .dataframe tbody tr th {\n",
              "        vertical-align: top;\n",
              "    }\n",
              "\n",
              "    .dataframe thead th {\n",
              "        text-align: right;\n",
              "    }\n",
              "</style>\n",
              "<table border=\"1\" class=\"dataframe\">\n",
              "  <thead>\n",
              "    <tr style=\"text-align: right;\">\n",
              "      <th></th>\n",
              "      <th></th>\n",
              "      <th>author</th>\n",
              "      <th>text</th>\n",
              "    </tr>\n",
              "    <tr>\n",
              "      <th>author</th>\n",
              "      <th></th>\n",
              "      <th></th>\n",
              "      <th></th>\n",
              "    </tr>\n",
              "  </thead>\n",
              "  <tbody>\n",
              "    <tr>\n",
              "      <th rowspan=\"5\" valign=\"top\">MWS</th>\n",
              "      <th>5630</th>\n",
              "      <td>2</td>\n",
              "      <td>Raymond would follow soon, she said; he had be...</td>\n",
              "    </tr>\n",
              "    <tr>\n",
              "      <th>5631</th>\n",
              "      <td>2</td>\n",
              "      <td>Towards evening dark thunder clouds arose abov...</td>\n",
              "    </tr>\n",
              "    <tr>\n",
              "      <th>5632</th>\n",
              "      <td>2</td>\n",
              "      <td>After he had been employed thus about an hour,...</td>\n",
              "    </tr>\n",
              "    <tr>\n",
              "      <th>5633</th>\n",
              "      <td>2</td>\n",
              "      <td>It was in a recess near the head of the ravine...</td>\n",
              "    </tr>\n",
              "    <tr>\n",
              "      <th>5634</th>\n",
              "      <td>2</td>\n",
              "      <td>Shall I meet you again, after having traversed...</td>\n",
              "    </tr>\n",
              "  </tbody>\n",
              "</table>\n",
              "</div>"
            ],
            "text/plain": [
              "             author                                               text\n",
              "author                                                                \n",
              "MWS    5630       2  Raymond would follow soon, she said; he had be...\n",
              "       5631       2  Towards evening dark thunder clouds arose abov...\n",
              "       5632       2  After he had been employed thus about an hour,...\n",
              "       5633       2  It was in a recess near the head of the ravine...\n",
              "       5634       2  Shall I meet you again, after having traversed..."
            ]
          },
          "metadata": {},
          "execution_count": 6
        }
      ]
    },
    {
      "cell_type": "markdown",
      "metadata": {
        "id": "zt6ky6Pgr5Ch"
      },
      "source": [
        "## Word tokenization\n",
        "\n",
        "Here we tokenize the words using our custom tokenization method.\n",
        "\n",
        "then we pad (from the left side) to 100 word length maximum."
      ]
    },
    {
      "cell_type": "code",
      "metadata": {
        "colab": {
          "base_uri": "https://localhost:8080/"
        },
        "id": "9P9rrPyuj_aK",
        "outputId": "b388b088-3193-4a8b-fd16-8513ab69d8b2"
      },
      "source": [
        "import nltk\n",
        "nltk.download('punkt')\n",
        "from nltk.tokenize import word_tokenize\n",
        "punc = ['.', ',', '\"', \"'\", '?', '!', ':', ';', '(', ')', '[', ']', '{', '}',\"%\"]"
      ],
      "execution_count": 7,
      "outputs": [
        {
          "output_type": "stream",
          "name": "stdout",
          "text": [
            "[nltk_data] Downloading package punkt to /root/nltk_data...\n",
            "[nltk_data]   Unzipping tokenizers/punkt.zip.\n"
          ]
        }
      ]
    },
    {
      "cell_type": "code",
      "metadata": {
        "id": "mOxAUs2sr4xp"
      },
      "source": [
        "def tokenize_frame(frame1):\n",
        "    frame = frame1.copy(deep=True)\n",
        "    frame['tokens'] = frame['text'].apply(lambda x: word_tokenize(x))\n",
        "    return frame"
      ],
      "execution_count": 8,
      "outputs": []
    },
    {
      "cell_type": "code",
      "metadata": {
        "id": "yzoP2frZs16t"
      },
      "source": [
        "train_resampled = tokenize_frame(train_resampled)\n",
        "train_resampled['tokens'] = train_resampled['tokens'].apply(lambda x: [y for y in x if y not in punc])"
      ],
      "execution_count": 9,
      "outputs": []
    },
    {
      "cell_type": "code",
      "metadata": {
        "colab": {
          "base_uri": "https://localhost:8080/"
        },
        "id": "DpQ1TZKEs19_",
        "outputId": "ec32459f-b566-4e9b-9e36-a630f0ad3d5a"
      },
      "source": [
        "list_vocab = []\n",
        "for sentence in train_resampled['tokens']:\n",
        "  for word in np.unique(sentence):\n",
        "    list_vocab.append(word)\n",
        "list_vocab = np.unique(list_vocab)\n",
        "len(list_vocab)"
      ],
      "execution_count": 10,
      "outputs": [
        {
          "output_type": "execute_result",
          "data": {
            "text/plain": [
              "26232"
            ]
          },
          "metadata": {},
          "execution_count": 10
        }
      ]
    },
    {
      "cell_type": "code",
      "metadata": {
        "id": "tZoagpeys9ie"
      },
      "source": [
        "def create_vocab_dict(vocab):\n",
        "    dict_str2int = {}\n",
        "    dict_int2str = {}\n",
        "    for i,j in enumerate(vocab,1):\n",
        "        dict_str2int[j] = int(i)\n",
        "        dict_int2str[i] = j\n",
        "    return dict_str2int, dict_int2str\n",
        "dict_str2int, dict_int2str = create_vocab_dict(list_vocab)"
      ],
      "execution_count": 11,
      "outputs": []
    },
    {
      "cell_type": "code",
      "metadata": {
        "id": "1dYNcih5s9l0"
      },
      "source": [
        "def apply_dict(list1):\n",
        "    result = []\n",
        "    try:\n",
        "      for i in list1:\n",
        "        result.append(dict_str2int[i])\n",
        "    except:\n",
        "      for i in list1:\n",
        "        if i not in dict_str2int.keys():\n",
        "          print(i,' not in dict')\n",
        "          dict_str2int[i] = len(dict_str2int.keys())\n",
        "          result.append(dict_str2int[i])\n",
        "        else:\n",
        "          result.append(dict_str2int[i])\n",
        "    return result\n",
        "def word2token(frame1):\n",
        "    frame = frame1.copy(deep=True)\n",
        "    frame['numeric_tokens'] = frame['tokens'].apply(lambda x: apply_dict(x))\n",
        "    return frame\n",
        "def pad_truncate_array(frame,max_len=160,truncate='Post'):\n",
        "    result = []\n",
        "    for item in frame['numeric_tokens']:\n",
        "        if len(item) > max_len:\n",
        "            if truncate == 'Post':\n",
        "                result.append(item[:max_len])\n",
        "            else:\n",
        "                result.append(item[len(item) - max_len:])\n",
        "        else:\n",
        "            result.append([0]*(max_len - len(item)) + item)\n",
        "    return np.array(result)\n",
        "\n",
        "def pad_truncate_array(frame,max_len=160,truncate='Post'):\n",
        "    result = []\n",
        "    for item in frame['numeric_tokens']:\n",
        "        if len(item) > max_len:\n",
        "            if truncate == 'Post':\n",
        "                result.append(item[:max_len])\n",
        "            else:\n",
        "                result.append(item[len(item) - max_len:])\n",
        "        else:\n",
        "            result.append([0]*(max_len - len(item)) + item)\n",
        "    return np.array(result)"
      ],
      "execution_count": 12,
      "outputs": []
    },
    {
      "cell_type": "code",
      "metadata": {
        "id": "ZmtUlZABtFTK"
      },
      "source": [
        "train_resampled = word2token(train_resampled)"
      ],
      "execution_count": 13,
      "outputs": []
    },
    {
      "cell_type": "code",
      "metadata": {
        "colab": {
          "base_uri": "https://localhost:8080/"
        },
        "id": "4zPahj8StFZQ",
        "outputId": "90d5d4a7-845d-4d9e-c1e0-d92560704329"
      },
      "source": [
        "list_len = []\n",
        "for i in train_resampled['numeric_tokens']:\n",
        "  list_len.append(len(i))\n",
        "np.quantile(list_len, 0.99)  # most text is shorter than 85 tokens."
      ],
      "execution_count": 14,
      "outputs": [
        {
          "output_type": "execute_result",
          "data": {
            "text/plain": [
              "85.0"
            ]
          },
          "metadata": {},
          "execution_count": 14
        }
      ]
    },
    {
      "cell_type": "code",
      "metadata": {
        "id": "Ra_PQaGWtFgK"
      },
      "source": [
        "train_array = pad_truncate_array(train_resampled,max_len = 100)"
      ],
      "execution_count": 15,
      "outputs": []
    },
    {
      "cell_type": "code",
      "metadata": {
        "colab": {
          "base_uri": "https://localhost:8080/"
        },
        "id": "-pwjb6MDtVkG",
        "outputId": "85010943-500a-4e49-dfc7-2499ff8be626"
      },
      "source": [
        "train_array"
      ],
      "execution_count": 16,
      "outputs": [
        {
          "output_type": "execute_result",
          "data": {
            "text/plain": [
              "array([[    0,     0,     0, ..., 16341, 14396, 16866],\n",
              "       [    0,     0,     0, ...,  3790,  4141,  3748],\n",
              "       [    0,     0,     0, ...,  2495,   174,  5578],\n",
              "       ...,\n",
              "       [    0,     0,     0, ..., 23659,  8889, 23926],\n",
              "       [    0,     0,     0, ..., 22267, 17546,  2256],\n",
              "       [    0,     0,     0, ...,   286, 17677,   375]])"
            ]
          },
          "metadata": {},
          "execution_count": 16
        }
      ]
    },
    {
      "cell_type": "code",
      "metadata": {
        "id": "zXRNeNAbtYxf"
      },
      "source": [
        "X_train, X_val, y_train, y_val = train_test_split( train_array, train_resampled['author'].values, \n",
        "                                                  test_size=0.1, random_state=42)"
      ],
      "execution_count": 150,
      "outputs": []
    },
    {
      "cell_type": "code",
      "metadata": {
        "colab": {
          "base_uri": "https://localhost:8080/"
        },
        "id": "jlNVKH33CTZH",
        "outputId": "87bbfe1c-963a-49f2-af92-845d710154ff"
      },
      "source": [
        "X_train.shape"
      ],
      "execution_count": 154,
      "outputs": [
        {
          "output_type": "execute_result",
          "data": {
            "text/plain": [
              "(15214, 100)"
            ]
          },
          "metadata": {},
          "execution_count": 154
        }
      ]
    },
    {
      "cell_type": "code",
      "metadata": {
        "colab": {
          "base_uri": "https://localhost:8080/"
        },
        "id": "Bk_A4oOXCVSS",
        "outputId": "b6a6809d-e7ba-44e2-c51e-2f3b0ee29be3"
      },
      "source": [
        "y_train = y_train.reshape(-1,1)\n",
        "y_train.shape"
      ],
      "execution_count": 158,
      "outputs": [
        {
          "output_type": "execute_result",
          "data": {
            "text/plain": [
              "(15214, 1)"
            ]
          },
          "metadata": {},
          "execution_count": 158
        }
      ]
    },
    {
      "cell_type": "markdown",
      "metadata": {
        "id": "7IEZuvv8mt2X"
      },
      "source": [
        "# build an LSTM via subclassing\n",
        "\n",
        "There are 3 ways to build tensorflow model\n",
        "1. sequential\n",
        "2. functional API\n",
        "3. subclassing from layers and models\n",
        "\n",
        "here we discuss the advantage and disadvantage of each approach.\n",
        "- the sequential method can't have branch. or multiple inputs and multiple output\n",
        "\n",
        "- the functional API are more complex, can have branches, and multiple inputs outputs, and shared layers\n",
        "\n",
        "- model subclassing allows the most customization. essentially we implement our own custom forward-pass of the model similar to pytorch. Eeach layer can be created using a subclass of tensorflow.keras.layers.Layer this comes with it the method \"call\" which is similar to \"forward\" in pytorch."
      ]
    },
    {
      "cell_type": "code",
      "metadata": {
        "id": "z8UDsIbpmxaE"
      },
      "source": [
        "from tensorflow.keras import layers\n",
        "\n",
        "class Embedding(layers.Layer):\n",
        "  \"\"\" word embedding layer expressed as a subclass of layer\"\"\"\n",
        "  def __init__(self,vocab_size, embedding_dim,**kwargs):\n",
        "    super(Embedding, self).__init__(**kwargs)\n",
        "    self.embedding = layers.Embedding(input_dim=vocab_size, output_dim=embedding_dim)\n",
        "\n",
        "  def call(self, inputs):\n",
        "    x = self.embedding(inputs)\n",
        "    return x\n",
        "\n",
        "class GRUNet(tf.keras.Model):\n",
        "  \"\"\" combine the custom built layers into an end-to-end model \"\"\"\n",
        "  def __init__(self, vocab_size, embedding_dim,**kwargs):\n",
        "    super(GRUNet,self).__init__(**kwargs)\n",
        "    #self.hidden_dim = hidden_dim\n",
        "    #self.n_layers = n_layers\n",
        "    self.embedding = Embedding(vocab_size=vocab_size, embedding_dim=embedding_dim)\n",
        "    self.gru = layers.GRU(256,return_sequences=True)\n",
        "    self.RNN = layers.SimpleRNN(128)\n",
        "    #self.loss_fn = tf.keras.losses.SparseCategoricalCrossentropy()\n",
        "    #self.accuracy_fn = tf.keras.metrics.SparseCategoricalAccuracy()\n",
        "    self.fc = layers.Dense(3, activation=\"softmax\")\n",
        "\n",
        "  def call(self,inputs):\n",
        "    embeds = self.embedding(inputs)\n",
        "    GRU_output = self.gru(embeds)\n",
        "    RNN_output = self.RNN(GRU_output)\n",
        "    out = self.fc(RNN_output)\n",
        "    #loss = self.loss_fn( targets, out)\n",
        "    #self.add_loss(loss, \"loss inside\")\n",
        "    #acc = self.accuracy_fn(targets, out)\n",
        "    #self.add_metric(acc, name=\"accuracy\")\n",
        "    return out"
      ],
      "execution_count": 159,
      "outputs": []
    },
    {
      "cell_type": "markdown",
      "metadata": {
        "id": "U8tmmqaf8sKn"
      },
      "source": [
        "Caveat of building via subclassing is that we won't have a static graph like the functional API or sequential method.\n",
        "\n",
        "therefore we won't be able to see the shape of feature maps until we start running forward pass through the model.\n",
        "\n",
        "we can still compile and run using the fit method similar to the other two construction methods."
      ]
    },
    {
      "cell_type": "code",
      "metadata": {
        "id": "Y3-zF4R7r3SL"
      },
      "source": [
        "gru_net = GRUNet(vocab_size = len(list_vocab),embedding_dim=300)\n",
        "# building via subclass method we don't know how layers are connected\n",
        "# i.e. not a static graph. Hence the summary doesn't work for us\n",
        "\n",
        "#gru_net.build(input_shape=(None,100))\n",
        "#gru_net.summary()"
      ],
      "execution_count": 160,
      "outputs": []
    },
    {
      "cell_type": "code",
      "metadata": {
        "colab": {
          "base_uri": "https://localhost:8080/"
        },
        "id": "RGeeoSJQr3b_",
        "outputId": "8f6f311b-6245-4dd2-9ebf-96ce4319a7a7"
      },
      "source": [
        "optimizer = tf.keras.optimizers.Adam(learning_rate=1e-4)\n",
        "gru_net.compile(optimizer, loss = tf.keras.losses.SparseCategoricalCrossentropy(), \n",
        "                metrics=[tf.keras.metrics.SparseCategoricalAccuracy()],)\n",
        "history = gru_net.fit(X_train,y_train, epochs= 5, batch_size = 64,validation_split=0.1)"
      ],
      "execution_count": 161,
      "outputs": [
        {
          "output_type": "stream",
          "name": "stdout",
          "text": [
            "Epoch 1/5\n",
            "214/214 [==============================] - 43s 186ms/step - loss: 1.0151 - sparse_categorical_accuracy: 0.4888 - val_loss: 0.8844 - val_sparse_categorical_accuracy: 0.6032\n",
            "Epoch 2/5\n",
            "214/214 [==============================] - 39s 182ms/step - loss: 0.6165 - sparse_categorical_accuracy: 0.7596 - val_loss: 0.5641 - val_sparse_categorical_accuracy: 0.7674\n",
            "Epoch 3/5\n",
            "214/214 [==============================] - 38s 180ms/step - loss: 0.3183 - sparse_categorical_accuracy: 0.8839 - val_loss: 0.5378 - val_sparse_categorical_accuracy: 0.7779\n",
            "Epoch 4/5\n",
            "214/214 [==============================] - 38s 178ms/step - loss: 0.1901 - sparse_categorical_accuracy: 0.9353 - val_loss: 0.5186 - val_sparse_categorical_accuracy: 0.7917\n",
            "Epoch 5/5\n",
            "214/214 [==============================] - 37s 175ms/step - loss: 0.1207 - sparse_categorical_accuracy: 0.9607 - val_loss: 0.5749 - val_sparse_categorical_accuracy: 0.7937\n"
          ]
        }
      ]
    },
    {
      "cell_type": "code",
      "metadata": {
        "colab": {
          "base_uri": "https://localhost:8080/",
          "height": 282
        },
        "id": "DdAnGEJb4dPN",
        "outputId": "5b9921cd-b0d1-438b-8f0b-21c79f6d8678"
      },
      "source": [
        "plt.plot(history.history[\"loss\"])\n",
        "plt.plot(history.history[\"val_loss\"])"
      ],
      "execution_count": 162,
      "outputs": [
        {
          "output_type": "execute_result",
          "data": {
            "text/plain": [
              "[<matplotlib.lines.Line2D at 0x7f16305687d0>]"
            ]
          },
          "metadata": {},
          "execution_count": 162
        },
        {
          "output_type": "display_data",
          "data": {
            "image/png": "[encoded data removed]",
            "text/plain": [
              "<Figure size 432x288 with 1 Axes>"
            ]
          },
          "metadata": {
            "needs_background": "light"
          }
        }
      ]
    },
    {
      "cell_type": "code",
      "metadata": {
        "colab": {
          "base_uri": "https://localhost:8080/",
          "height": 282
        },
        "id": "RNpadSMd8dDr",
        "outputId": "29fedff1-4612-4b2d-8a37-9b3f9dde7b6c"
      },
      "source": [
        "plt.plot(history.history[\"sparse_categorical_accuracy\"])\n",
        "plt.plot(history.history[\"val_sparse_categorical_accuracy\"])"
      ],
      "execution_count": 163,
      "outputs": [
        {
          "output_type": "execute_result",
          "data": {
            "text/plain": [
              "[<matplotlib.lines.Line2D at 0x7f162f631250>]"
            ]
          },
          "metadata": {},
          "execution_count": 163
        },
        {
          "output_type": "display_data",
          "data": {
            "image/png": "[encoded data removed]",
            "text/plain": [
              "<Figure size 432x288 with 1 Axes>"
            ]
          },
          "metadata": {
            "needs_background": "light"
          }
        }
      ]
    }
  ]
}