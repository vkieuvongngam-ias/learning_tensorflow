{
 "cells": [
  {
   "cell_type": "code",
   "execution_count": 5,
   "metadata": {},
   "outputs": [],
   "source": [
    "import tensorflow as tf\n",
    "import numpy as np\n",
    "import matplotlib.pyplot as plt\n",
    "import pandas as pd"
   ]
  },
  {
   "cell_type": "code",
   "execution_count": 6,
   "metadata": {},
   "outputs": [
    {
     "name": "stdout",
     "output_type": "stream",
     "text": [
      "tensorflow version 2.1.0\n"
     ]
    }
   ],
   "source": [
    "print(f\"tensorflow version {tf.__version__}\")"
   ]
  },
  {
   "cell_type": "code",
   "execution_count": 7,
   "metadata": {},
   "outputs": [
    {
     "data": {
      "text/plain": [
       "True"
      ]
     },
     "execution_count": 7,
     "metadata": {},
     "output_type": "execute_result"
    }
   ],
   "source": [
    "tf.test.is_gpu_available(cuda_only=True)"
   ]
  },
  {
   "cell_type": "code",
   "execution_count": 8,
   "metadata": {},
   "outputs": [],
   "source": [
    "mnist = tf.keras.datasets.mnist"
   ]
  },
  {
   "cell_type": "code",
   "execution_count": 9,
   "metadata": {},
   "outputs": [],
   "source": [
    "(x_train, y_train), (x_test, y_test) = mnist.load_data()"
   ]
  },
  {
   "cell_type": "code",
   "execution_count": null,
   "metadata": {},
   "outputs": [],
   "source": []
  },
  {
   "cell_type": "code",
   "execution_count": 10,
   "metadata": {},
   "outputs": [],
   "source": [
    "x_train, x_test = x_train / 255.0, x_test / 255.0"
   ]
  },
  {
   "cell_type": "code",
   "execution_count": 11,
   "metadata": {},
   "outputs": [
    {
     "data": {
      "text/plain": [
       "<matplotlib.image.AxesImage at 0x7f861005b240>"
      ]
     },
     "execution_count": 11,
     "metadata": {},
     "output_type": "execute_result"
    },
    {
     "data": {
      "image/png": "[encoded data removed]",
      "text/plain": [
       "<Figure size 432x288 with 1 Axes>"
      ]
     },
     "metadata": {
      "needs_background": "light"
     },
     "output_type": "display_data"
    }
   ],
   "source": [
    "plt.imshow((x_train[1,:,:]))"
   ]
  },
  {
   "cell_type": "code",
   "execution_count": 29,
   "metadata": {},
   "outputs": [
    {
     "data": {
      "text/plain": [
       "(60000, 28, 28)"
      ]
     },
     "execution_count": 29,
     "metadata": {},
     "output_type": "execute_result"
    }
   ],
   "source": [
    "x_train.shape"
   ]
  },
  {
   "cell_type": "code",
   "execution_count": null,
   "metadata": {},
   "outputs": [],
   "source": []
  },
  {
   "cell_type": "markdown",
   "metadata": {},
   "source": [
    "## tensorflow functional API\n",
    "create input node, and pass the node around as input to other layers, \n",
    "using the currying technique\n",
    "\n",
    "model is a wrapper around first layer, and last layer"
   ]
  },
  {
   "cell_type": "code",
   "execution_count": 33,
   "metadata": {},
   "outputs": [],
   "source": [
    "inputs = tf.keras.Input(shape=(28,28,1))\n",
    "conv1 = tf.keras.layers.Conv2D(32,kernel_size=4, activation='relu')(inputs)\n",
    "pool1 = tf.keras.layers.MaxPooling2D(pool_size=(2,2))(conv1)\n",
    "conv2 = tf.keras.layers.Conv2D(16,kernel_size=4, activation=\"relu\")(pool1)\n",
    "pool2 = tf.keras.layers.MaxPooling2D(pool_size=(2,2))(conv2)\n",
    "flat = tf.keras.layers.Flatten()(pool2)\n",
    "hidden1 = tf.keras.layers.Dense(100, activation=\"relu\")(flat)\n",
    "output = tf.keras.layers.Dense(10,activation=\"softmax\")(hidden1)\n",
    "model = tf.keras.models.Model(inputs=inputs, outputs=output)"
   ]
  },
  {
   "cell_type": "code",
   "execution_count": 34,
   "metadata": {},
   "outputs": [
    {
     "name": "stdout",
     "output_type": "stream",
     "text": [
      "Model: \"model_1\"\n",
      "_________________________________________________________________\n",
      "Layer (type)                 Output Shape              Param #   \n",
      "=================================================================\n",
      "input_8 (InputLayer)         [(None, 28, 28, 1)]       0         \n",
      "_________________________________________________________________\n",
      "conv2d_8 (Conv2D)            (None, 25, 25, 32)        544       \n",
      "_________________________________________________________________\n",
      "max_pooling2d_5 (MaxPooling2 (None, 12, 12, 32)        0         \n",
      "_________________________________________________________________\n",
      "conv2d_9 (Conv2D)            (None, 9, 9, 16)          8208      \n",
      "_________________________________________________________________\n",
      "max_pooling2d_6 (MaxPooling2 (None, 4, 4, 16)          0         \n",
      "_________________________________________________________________\n",
      "flatten_1 (Flatten)          (None, 256)               0         \n",
      "_________________________________________________________________\n",
      "dense_2 (Dense)              (None, 100)               25700     \n",
      "_________________________________________________________________\n",
      "dense_3 (Dense)              (None, 10)                1010      \n",
      "=================================================================\n",
      "Total params: 35,462\n",
      "Trainable params: 35,462\n",
      "Non-trainable params: 0\n",
      "_________________________________________________________________\n"
     ]
    }
   ],
   "source": [
    "model.summary()"
   ]
  },
  {
   "cell_type": "markdown",
   "metadata": {},
   "source": [
    "## compile the model\n",
    "\n",
    "this step include loss, optimizer, and metrices"
   ]
  },
  {
   "cell_type": "code",
   "execution_count": 35,
   "metadata": {},
   "outputs": [],
   "source": [
    "model.compile(nse"
   ]
  },
  {
   "cell_type": "code",
   "execution_count": 36,
   "metadata": {},
   "outputs": [],
   "source": [
    "x_train_new = x_train.reshape(60000,28,28,1)"
   ]
  },
  {
   "cell_type": "code",
   "execution_count": 37,
   "metadata": {},
   "outputs": [
    {
     "name": "stdout",
     "output_type": "stream",
     "text": [
      "Train on 48000 samples, validate on 12000 samples\n",
      "Epoch 1/10\n",
      "48000/48000 [==============================] - 2s 45us/sample - loss: 1.5928 - accuracy: 0.8746 - val_loss: 1.5055 - val_accuracy: 0.9580\n",
      "Epoch 2/10\n",
      "48000/48000 [==============================] - 2s 36us/sample - loss: 1.4985 - accuracy: 0.9645 - val_loss: 1.4989 - val_accuracy: 0.9639\n",
      "Epoch 3/10\n",
      "48000/48000 [==============================] - 2s 36us/sample - loss: 1.4882 - accuracy: 0.9741 - val_loss: 1.4832 - val_accuracy: 0.9788\n",
      "Epoch 4/10\n",
      "48000/48000 [==============================] - 2s 36us/sample - loss: 1.4825 - accuracy: 0.9800 - val_loss: 1.4803 - val_accuracy: 0.9822\n",
      "Epoch 5/10\n",
      "48000/48000 [==============================] - 2s 36us/sample - loss: 1.4811 - accuracy: 0.9811 - val_loss: 1.4796 - val_accuracy: 0.9820\n",
      "Epoch 6/10\n",
      "48000/48000 [==============================] - 2s 36us/sample - loss: 1.4782 - accuracy: 0.9836 - val_loss: 1.4806 - val_accuracy: 0.9812\n",
      "Epoch 7/10\n",
      "48000/48000 [==============================] - 2s 36us/sample - loss: 1.4761 - accuracy: 0.9856 - val_loss: 1.4772 - val_accuracy: 0.9846\n",
      "Epoch 8/10\n",
      "48000/48000 [==============================] - 2s 36us/sample - loss: 1.4752 - accuracy: 0.9867 - val_loss: 1.4794 - val_accuracy: 0.9825\n",
      "Epoch 9/10\n",
      "48000/48000 [==============================] - 2s 36us/sample - loss: 1.4737 - accuracy: 0.9879 - val_loss: 1.4781 - val_accuracy: 0.9836\n",
      "Epoch 10/10\n",
      "48000/48000 [==============================] - 2s 36us/sample - loss: 1.4735 - accuracy: 0.9880 - val_loss: 1.4780 - val_accuracy: 0.9837\n"
     ]
    }
   ],
   "source": [
    "history = model.fit(x_train_new, y_train, batch_size=64, epochs=10, validation_split=0.2)"
   ]
  },
  {
   "cell_type": "code",
   "execution_count": 43,
   "metadata": {},
   "outputs": [
    {
     "data": {
      "text/plain": [
       "[<matplotlib.lines.Line2D at 0x7f85687d4da0>]"
      ]
     },
     "execution_count": 43,
     "metadata": {},
     "output_type": "execute_result"
    },
    {
     "data": {
      "image/png": "[encoded data removed]",
      "text/plain": [
       "<Figure size 432x288 with 1 Axes>"
      ]
     },
     "metadata": {
      "needs_background": "light"
     },
     "output_type": "display_data"
    }
   ],
   "source": [
    "plt.plot(history.history[\"loss\"])\n",
    "plt.plot(history.history[\"val_loss\"])"
   ]
  },
  {
   "cell_type": "code",
   "execution_count": 44,
   "metadata": {},
   "outputs": [
    {
     "data": {
      "text/plain": [
       "[<matplotlib.lines.Line2D at 0x7f857821da20>]"
      ]
     },
     "execution_count": 44,
     "metadata": {},
     "output_type": "execute_result"
    },
    {
     "data": {
      "image/png": "[encoded data removed]",
      "text/plain": [
       "<Figure size 432x288 with 1 Axes>"
      ]
     },
     "metadata": {
      "needs_background": "light"
     },
     "output_type": "display_data"
    }
   ],
   "source": [
    "plt.plot(history.history[\"accuracy\"])\n",
    "plt.plot(history.history[\"val_accuracy\"])"
   ]
  },
  {
   "cell_type": "code",
   "execution_count": null,
   "metadata": {},
   "outputs": [],
   "source": []
  }
 ],
 "metadata": {
  "kernelspec": {
   "display_name": "Python [conda env:tensorflow2_p36]",
   "language": "python",
   "name": "conda-env-tensorflow2_p36-py"
  },
  "language_info": {
   "codemirror_mode": {
    "name": "ipython",
    "version": 3
   },
   "file_extension": ".py",
   "mimetype": "text/x-python",
   "name": "python",
   "nbconvert_exporter": "python",
   "pygments_lexer": "ipython3",
   "version": "3.6.10"
  }
 },
 "nbformat": 4,
 "nbformat_minor": 4
}
